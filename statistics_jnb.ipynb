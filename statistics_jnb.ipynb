{
 "cells": [
  {
   "cell_type": "code",
   "execution_count": 1,
   "id": "4fe41479",
   "metadata": {},
   "outputs": [
    {
     "ename": "ModuleNotFoundError",
     "evalue": "No module named 'stats'",
     "output_type": "error",
     "traceback": [
      "\u001b[0;31m---------------------------------------------------------------------------\u001b[0m",
      "\u001b[0;31mModuleNotFoundError\u001b[0m                       Traceback (most recent call last)",
      "\u001b[0;32m/tmp/ipykernel_2568/1917731988.py\u001b[0m in \u001b[0;36m<module>\u001b[0;34m\u001b[0m\n\u001b[0;32m----> 1\u001b[0;31m \u001b[0;32mimport\u001b[0m \u001b[0mstats\u001b[0m \u001b[0;32mas\u001b[0m \u001b[0mst\u001b[0m\u001b[0;34m\u001b[0m\u001b[0;34m\u001b[0m\u001b[0m\n\u001b[0m",
      "\u001b[0;31mModuleNotFoundError\u001b[0m: No module named 'stats'"
     ]
    }
   ],
   "source": [
    "import stats as st"
   ]
  },
  {
   "cell_type": "code",
   "execution_count": 37,
   "id": "882815a5",
   "metadata": {},
   "outputs": [],
   "source": [
    "with open('ejercicio2.txt', 'r') as f:\n",
    "    datos = f.readlines()"
   ]
  },
  {
   "cell_type": "code",
   "execution_count": 3,
   "id": "3dbac7ce",
   "metadata": {
    "scrolled": true
   },
   "outputs": [
    {
     "data": {
      "text/plain": [
       "[1959,\n",
       " 4534,\n",
       " 7020,\n",
       " 6725,\n",
       " 6964,\n",
       " 7428,\n",
       " 9359,\n",
       " 9166,\n",
       " 2802,\n",
       " 2462,\n",
       " 4000,\n",
       " 3378,\n",
       " 7343,\n",
       " 4189,\n",
       " 8973,\n",
       " 4327,\n",
       " 2412,\n",
       " 7624,\n",
       " 1548,\n",
       " 4801,\n",
       " 737,\n",
       " 5321,\n",
       " 849,\n",
       " 5749,\n",
       " 6837,\n",
       " 8639,\n",
       " 7417,\n",
       " 6082,\n",
       " 10241,\n",
       " 962,\n",
       " 3894,\n",
       " 1801,\n",
       " 5099,\n",
       " 6627,\n",
       " 4484,\n",
       " 5633,\n",
       " 4148,\n",
       " 6588,\n",
       " 5847,\n",
       " 4632,\n",
       " 6472,\n",
       " 8372,\n",
       " 8225,\n",
       " 6142,\n",
       " 12130]"
      ]
     },
     "execution_count": 3,
     "metadata": {},
     "output_type": "execute_result"
    }
   ],
   "source": [
    "st.read_from_txt('ejercicio2.txt')"
   ]
  },
  {
   "cell_type": "code",
   "execution_count": null,
   "id": "7b6b7003",
   "metadata": {},
   "outputs": [],
   "source": []
  }
 ],
 "metadata": {
  "kernelspec": {
   "display_name": "Python 3.9.7 64-bit",
   "language": "python",
   "name": "python397jvsc74a57bd0e7370f93d1d0cde622a1f8e1c04877d8463912d04d973331ad4851f04de6915a"
  },
  "language_info": {
   "codemirror_mode": {
    "name": "ipython",
    "version": 3
   },
   "file_extension": ".py",
   "mimetype": "text/x-python",
   "name": "python",
   "nbconvert_exporter": "python",
   "pygments_lexer": "ipython3",
   "version": "3.9.7"
  }
 },
 "nbformat": 4,
 "nbformat_minor": 5
}
