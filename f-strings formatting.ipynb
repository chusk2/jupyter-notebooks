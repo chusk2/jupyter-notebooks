{
 "cells": [
  {
   "cell_type": "markdown",
   "metadata": {},
   "source": [
    "# f-strings formatting\n",
    "## Source:  https://datagy.io/python-f-strings/#Formatting_Values_with_Python_f-strings"
   ]
  },
  {
   "cell_type": "markdown",
   "metadata": {},
   "source": [
    "## aligning text to the right: using `>` character"
   ]
  },
  {
   "cell_type": "code",
   "execution_count": 1,
   "metadata": {},
   "outputs": [
    {
     "name": "stdout",
     "output_type": "stream",
     "text": [
      "***********************************\n",
      "          This text is left aligned\n",
      "***********************************\n"
     ]
    }
   ],
   "source": [
    "tex = \"This text is left aligned\"\n",
    "padding = len(tex) + 10\n",
    "print('*'*padding)\n",
    "print(f'{tex:>{padding}}')\n",
    "print('*'*padding)"
   ]
  },
  {
   "cell_type": "markdown",
   "metadata": {},
   "source": [
    "## aligning to the left: using `<` character"
   ]
  },
  {
   "cell_type": "code",
   "execution_count": 2,
   "metadata": {},
   "outputs": [
    {
     "name": "stdout",
     "output_type": "stream",
     "text": [
      "***********************************\n",
      "This text is left aligned          \n",
      "***********************************\n"
     ]
    }
   ],
   "source": [
    "tex = \"This text is left aligned\"\n",
    "padding = len(tex) + 10\n",
    "print('*'*padding)\n",
    "print(f'{tex:<{padding}}')\n",
    "print('*'*padding)"
   ]
  },
  {
   "cell_type": "markdown",
   "metadata": {},
   "source": [
    "## center aligned: using `^` character"
   ]
  },
  {
   "cell_type": "code",
   "execution_count": 3,
   "metadata": {},
   "outputs": [
    {
     "name": "stdout",
     "output_type": "stream",
     "text": [
      "***********************************\n",
      "     This text is left aligned     \n",
      "***********************************\n"
     ]
    }
   ],
   "source": [
    "tex = \"This text is left aligned\"\n",
    "padding = len(tex) + 10\n",
    "print('*'*padding)\n",
    "print(f'{tex:^{padding}}')\n",
    "print('*'*padding)"
   ]
  },
  {
   "cell_type": "markdown",
   "metadata": {},
   "source": [
    "## using percentages formatting without the need of actually working them out"
   ]
  },
  {
   "cell_type": "code",
   "execution_count": 4,
   "metadata": {},
   "outputs": [
    {
     "name": "stdout",
     "output_type": "stream",
     "text": [
      "A selection of 23 out of 179 represents only the 12.85%.\n"
     ]
    }
   ],
   "source": [
    "selected, total = 23, 179\n",
    "print(f'A selection of {selected} out of {total} represents only the {selected/total:.2%}.')"
   ]
  },
  {
   "cell_type": "markdown",
   "metadata": {},
   "source": [
    "## using currency"
   ]
  },
  {
   "cell_type": "code",
   "execution_count": 5,
   "metadata": {},
   "outputs": [
    {
     "name": "stdout",
     "output_type": "stream",
     "text": [
      "Our sales last month supposed a total income of 157.52 €\n"
     ]
    }
   ],
   "source": [
    "unit_price = 1.57\n",
    "units_sold = 127\n",
    "taxes = .21\n",
    "print(f'Our sales last month supposed a total income of {unit_price*units_sold * (1-taxes):.2f} €')"
   ]
  },
  {
   "cell_type": "markdown",
   "metadata": {},
   "source": [
    "## using comma separator"
   ]
  },
  {
   "cell_type": "code",
   "execution_count": 6,
   "metadata": {},
   "outputs": [
    {
     "name": "stdout",
     "output_type": "stream",
     "text": [
      "Our sales last month rocketed! Our total income was: 19,333.80 €\n"
     ]
    }
   ],
   "source": [
    "unit_price = 1.57\n",
    "units_sold = 15588\n",
    "taxes = .21\n",
    "print(f'Our sales last month rocketed! Our total income was: {unit_price*units_sold * (1-taxes):,.2f} €')"
   ]
  },
  {
   "cell_type": "markdown",
   "metadata": {},
   "source": [
    "## scientific notation with decimal places"
   ]
  },
  {
   "cell_type": "code",
   "execution_count": 7,
   "metadata": {},
   "outputs": [
    {
     "name": "stdout",
     "output_type": "stream",
     "text": [
      "25.4 grams of sulfuric acid equals to 0.259 moles and contains 1.72e+23 molecules.\n"
     ]
    }
   ],
   "source": [
    "avogradro = 6.62e23\n",
    "molec_weight = 98  # g/mol\n",
    "mass = 25.4\n",
    "print(f'{mass} grams of sulfuric acid equals to {mass/molec_weight:.3f} moles and contains {mass/molec_weight*avogradro:.2e} molecules.')"
   ]
  },
  {
   "cell_type": "markdown",
   "metadata": {},
   "source": [
    "## if number is negative, include its sign"
   ]
  },
  {
   "cell_type": "code",
   "execution_count": 8,
   "metadata": {},
   "outputs": [
    {
     "name": "stdout",
     "output_type": "stream",
     "text": [
      "Number: +1 is positive\n",
      "Number: -3 is negative\n",
      "Number: +5 is positive\n",
      "Number Zero\n",
      "Number: -27 is negative\n",
      "Number: +8 is positive\n"
     ]
    }
   ],
   "source": [
    "numbers = [1,-3,5,0, -27,8]\n",
    "for i in numbers:\n",
    "    if i == 0:\n",
    "        print('Number Zero')\n",
    "        continue\n",
    "    print(f'Number: {i:+} is {\"positive\" if i>0 else \"negative\"}')\n"
   ]
  }
 ],
 "metadata": {
  "interpreter": {
   "hash": "e7370f93d1d0cde622a1f8e1c04877d8463912d04d973331ad4851f04de6915a"
  },
  "kernelspec": {
   "display_name": "Python 3.9.7 64-bit",
   "name": "python3"
  },
  "language_info": {
   "codemirror_mode": {
    "name": "ipython",
    "version": 3
   },
   "file_extension": ".py",
   "mimetype": "text/x-python",
   "name": "python",
   "nbconvert_exporter": "python",
   "pygments_lexer": "ipython3",
   "version": "3.9.7"
  },
  "orig_nbformat": 4
 },
 "nbformat": 4,
 "nbformat_minor": 2
}
