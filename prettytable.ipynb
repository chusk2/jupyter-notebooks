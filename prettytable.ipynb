{
 "cells": [
  {
   "cell_type": "markdown",
   "id": "596d842b",
   "metadata": {},
   "source": [
    "# Using prettytable"
   ]
  },
  {
   "cell_type": "markdown",
   "id": "d8045043",
   "metadata": {},
   "source": [
    "### to install a module in jupyter notebook, use the following commands:  \n",
    "`import sys\n",
    "!{sys.executable} -m pip install prettytable`"
   ]
  },
  {
   "cell_type": "code",
   "execution_count": 1,
   "id": "d3ded9a3",
   "metadata": {
    "collapsed": true
   },
   "outputs": [
    {
     "name": "stdout",
     "output_type": "stream",
     "text": [
      "Defaulting to user installation because normal site-packages is not writeable\n",
      "Requirement already satisfied: prettytable in /home/daniel/.local/lib/python3.9/site-packages (2.4.0)\n",
      "Requirement already satisfied: wcwidth in /home/daniel/.local/lib/python3.9/site-packages (from prettytable) (0.2.5)\n"
     ]
    }
   ],
   "source": [
    "import sys\n",
    "!{sys.executable} -m pip install prettytable\n",
    "from prettytable import PrettyTable"
   ]
  },
  {
   "cell_type": "code",
   "execution_count": 7,
   "id": "9c59d9fb",
   "metadata": {},
   "outputs": [],
   "source": [
    "name = ['John', 'Peter', 'Gustav']\n",
    "age = [25, 30, 45]\n",
    "position = ['Software Engineer', 'Product Manager', 'Intern']"
   ]
  },
  {
   "cell_type": "code",
   "execution_count": 9,
   "id": "44b3ed60",
   "metadata": {},
   "outputs": [
    {
     "name": "stdout",
     "output_type": "stream",
     "text": [
      "+--------+-----+-------------------+\n",
      "| Name   | Age | Position          |\n",
      "+--------+-----+-------------------+\n",
      "| John   |  25 | Software Engineer |\n",
      "| Peter  |  30 | Product Manager   |\n",
      "| Gustav |  45 | Intern            |\n",
      "+--------+-----+-------------------+\n"
     ]
    }
   ],
   "source": [
    "# create a PrettyTable\n",
    "table = PrettyTable()\n",
    "# create header\n",
    "table.field_names = ['Name', 'Age', 'Position']\n",
    "# each row must be a list\n",
    "rows = [[item1, item2, item3] for item1, item2, item3 in zip(name, age, position)]\n",
    "table.add_rows(rows)\n",
    "# align columns to the left\n",
    "table.align = 'l'\n",
    "# age is aligned center\n",
    "table.align['Age'] = 'c'\n",
    "print(table)"
   ]
  },
  {
   "cell_type": "code",
   "execution_count": null,
   "id": "af270034",
   "metadata": {},
   "outputs": [],
   "source": []
  }
 ],
 "metadata": {
  "kernelspec": {
   "display_name": "Python 3.9.7 64-bit",
   "language": "python",
   "name": "python397jvsc74a57bd0e7370f93d1d0cde622a1f8e1c04877d8463912d04d973331ad4851f04de6915a"
  },
  "language_info": {
   "codemirror_mode": {
    "name": "ipython",
    "version": 3
   },
   "file_extension": ".py",
   "mimetype": "text/x-python",
   "name": "python",
   "nbconvert_exporter": "python",
   "pygments_lexer": "ipython3",
   "version": "3.9.7"
  }
 },
 "nbformat": 4,
 "nbformat_minor": 5
}
