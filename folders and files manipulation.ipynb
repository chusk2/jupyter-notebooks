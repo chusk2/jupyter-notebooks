{
 "cells": [
  {
   "cell_type": "markdown",
   "id": "e53a939b",
   "metadata": {},
   "source": [
    "# File manipulation"
   ]
  },
  {
   "cell_type": "code",
   "execution_count": 11,
   "id": "2494987c",
   "metadata": {},
   "outputs": [],
   "source": [
    "from pathlib import Path as pth"
   ]
  },
  {
   "cell_type": "code",
   "execution_count": 2,
   "id": "33226328",
   "metadata": {},
   "outputs": [],
   "source": [
    "import os"
   ]
  },
  {
   "cell_type": "markdown",
   "id": "c29450f2",
   "metadata": {},
   "source": [
    "#### change directory using os library"
   ]
  },
  {
   "cell_type": "code",
   "execution_count": 12,
   "id": "994dff14",
   "metadata": {},
   "outputs": [],
   "source": [
    "os.chdir(pth.home())"
   ]
  },
  {
   "cell_type": "code",
   "execution_count": 13,
   "id": "c0e90387",
   "metadata": {},
   "outputs": [
    {
     "data": {
      "text/plain": [
       "PosixPath('/home/daniel')"
      ]
     },
     "execution_count": 13,
     "metadata": {},
     "output_type": "execute_result"
    }
   ],
   "source": [
    "pth.cwd()"
   ]
  },
  {
   "cell_type": "markdown",
   "id": "a4d43519",
   "metadata": {},
   "source": [
    "#### use iterdir() method to list the content of folder"
   ]
  },
  {
   "cell_type": "code",
   "execution_count": 44,
   "id": "449c4352",
   "metadata": {},
   "outputs": [],
   "source": [
    "home = pth.home()"
   ]
  },
  {
   "cell_type": "markdown",
   "id": "b2bef508",
   "metadata": {},
   "source": [
    "**is_file()** checks if a path object is a file or not  \n",
    "**name** attribute gets the name of the path object"
   ]
  },
  {
   "cell_type": "code",
   "execution_count": 45,
   "id": "4473d7a7",
   "metadata": {},
   "outputs": [
    {
     "name": "stdout",
     "output_type": "stream",
     "text": [
      "Folders:\n",
      "/home/daniel/snap\n",
      "/home/daniel/Vídeos\n",
      "/home/daniel/practice\n",
      "/home/daniel/Imágenes\n",
      "/home/daniel/pdf_utils\n",
      "/home/daniel/Documentos\n",
      "/home/daniel/Descargas\n",
      "/home/daniel/snake-game\n",
      "/home/daniel/rtl_bt\n",
      "/home/daniel/MEGAsync Downloads\n",
      "/home/daniel/Público\n",
      "/home/daniel/git-learning-bak\n",
      "/home/daniel/git-learning\n",
      "/home/daniel/emestrada\n",
      "/home/daniel/Música\n",
      "/home/daniel/Escritorio\n",
      "/home/daniel/Plantillas\n",
      "Files:\n",
      "/home/daniel/fact.py\n",
      "/home/daniel/pdf_file.pdf\n",
      "/home/daniel/prueba.ipynb\n",
      "/home/daniel/emestrada_spider.py\n",
      "/home/daniel/emestrada.py\n",
      "/home/daniel/unicaja febrero 21.xlsx\n",
      "/home/daniel/git-commands\n"
     ]
    }
   ],
   "source": [
    "# separate folders and files to be printed in different categories\n",
    "folders, files = [], []\n",
    "for item in home.iterdir():\n",
    "    if not item.is_file():\n",
    "        folders.append(item)\n",
    "    else:\n",
    "        files.append(item)\n",
    "# print out list of folders which are not hidden (name starts with a dot)\n",
    "print('Folders:')\n",
    "for j in folders:\n",
    "    if not j.name.startswith('.'):\n",
    "        print(j)\n",
    "# print out list of files which are not hidden (name starts with a dot)\n",
    "print('Files:')\n",
    "for k in files:\n",
    "    if not k.name.startswith('.'):\n",
    "        print(k)"
   ]
  },
  {
   "cell_type": "markdown",
   "id": "97174960",
   "metadata": {},
   "source": [
    "#### path objects can be concatenated using just a forward slash '/' sign"
   ]
  },
  {
   "cell_type": "code",
   "execution_count": 46,
   "id": "1b5648eb",
   "metadata": {},
   "outputs": [],
   "source": [
    "os.chdir(home / 'Descargas')"
   ]
  },
  {
   "cell_type": "markdown",
   "id": "f1259083",
   "metadata": {},
   "source": [
    "#### use **.glob(wildcard)** to list only path objects that match the wildcard"
   ]
  },
  {
   "cell_type": "code",
   "execution_count": 56,
   "id": "cf4e6243",
   "metadata": {},
   "outputs": [
    {
     "name": "stdout",
     "output_type": "stream",
     "text": [
      "Factura Vodafone Mayo 2021\n",
      "Factura Areteduca Marzo 2021\n",
      "Factura Vodafone Abril 2021\n",
      "Factura Vodafone Febrero 2021\n",
      "Factura Vodafone Marzo 2021\n",
      "Beginning Git and GitHub\n",
      "Areteduca Abril 2020\n",
      "651963566_1624374667139\n",
      "tabla-periodica-de-los-elementos-en-espanol-en-pdf-version-final_1932723f\n",
      "pago 1ª Cuota Intrum\n"
     ]
    }
   ],
   "source": [
    "pdf_files = pth.cwd().glob('*.pdf')\n",
    "for _ in pdf_files:\n",
    "    print(_)"
   ]
  },
  {
   "cell_type": "markdown",
   "id": "ac4571f8",
   "metadata": {},
   "source": [
    "use `.prefix` attribute to access to the file extension and **stem** to get its name without extension "
   ]
  },
  {
   "cell_type": "code",
   "execution_count": 58,
   "id": "c678a28b",
   "metadata": {},
   "outputs": [
    {
     "name": "stdout",
     "output_type": "stream",
     "text": [
      "Factura Vodafone Mayo 2021\n",
      "Factura Areteduca Marzo 2021\n",
      "Factura Vodafone Abril 2021\n",
      "Factura Vodafone Febrero 2021\n",
      "Factura Vodafone Marzo 2021\n",
      "Beginning Git and GitHub\n",
      "Areteduca Abril 2020\n",
      "651963566_1624374667139\n",
      "tabla-periodica-de-los-elementos-en-espanol-en-pdf-version-final_1932723f\n",
      "pago 1ª Cuota Intrum\n"
     ]
    }
   ],
   "source": [
    "pdf_files = pth.cwd().glob('*.pdf')\n",
    "for _ in pdf_files:\n",
    "    print(_.stem)"
   ]
  },
  {
   "cell_type": "markdown",
   "id": "b996eed6",
   "metadata": {},
   "source": [
    "To create a folder, just use `.mkdir()` to an existing path object. First create the path to the new folder, which obviously *doesn't exist*. Then apply the **.mkdir()** to the new path to create the folder."
   ]
  },
  {
   "cell_type": "code",
   "execution_count": 59,
   "id": "8296a2d6",
   "metadata": {},
   "outputs": [],
   "source": [
    "os.chdir(home)"
   ]
  },
  {
   "cell_type": "code",
   "execution_count": 65,
   "id": "e00aefe2",
   "metadata": {},
   "outputs": [],
   "source": [
    "(home / 'new dir').mkdir()  # use a parenthesis to create the path"
   ]
  },
  {
   "cell_type": "code",
   "execution_count": 66,
   "id": "86e65c9c",
   "metadata": {},
   "outputs": [],
   "source": [
    "os.chdir(home / 'new dir')"
   ]
  },
  {
   "cell_type": "markdown",
   "id": "11032c78",
   "metadata": {},
   "source": [
    "`.touch()` creates a new file. Create a path object with the name of desired new file and the apply the **.touch()** method"
   ]
  },
  {
   "cell_type": "code",
   "execution_count": 67,
   "id": "fd5382d4",
   "metadata": {},
   "outputs": [],
   "source": [
    "(pth.cwd() / 'file.txt').touch()"
   ]
  },
  {
   "cell_type": "code",
   "execution_count": 68,
   "id": "e6f2b969",
   "metadata": {},
   "outputs": [
    {
     "name": "stdout",
     "output_type": "stream",
     "text": [
      "/home/daniel/new dir/file.txt\n"
     ]
    }
   ],
   "source": [
    "for i in pth.cwd().iterdir(): print(i)"
   ]
  },
  {
   "cell_type": "code",
   "execution_count": 71,
   "id": "edc2bda7",
   "metadata": {},
   "outputs": [
    {
     "ename": "FileExistsError",
     "evalue": "[Errno 17] File exists: '/home/daniel/new dir'",
     "output_type": "error",
     "traceback": [
      "\u001b[0;31m---------------------------------------------------------------------------\u001b[0m",
      "\u001b[0;31mFileExistsError\u001b[0m                           Traceback (most recent call last)",
      "\u001b[0;32m/tmp/ipykernel_2352/621121687.py\u001b[0m in \u001b[0;36m<module>\u001b[0;34m\u001b[0m\n\u001b[0;32m----> 1\u001b[0;31m \u001b[0;34m(\u001b[0m\u001b[0mpth\u001b[0m\u001b[0;34m.\u001b[0m\u001b[0mhome\u001b[0m\u001b[0;34m(\u001b[0m\u001b[0;34m)\u001b[0m \u001b[0;34m/\u001b[0m \u001b[0;34m'new dir'\u001b[0m\u001b[0;34m)\u001b[0m\u001b[0;34m.\u001b[0m\u001b[0mmkdir\u001b[0m\u001b[0;34m(\u001b[0m\u001b[0;34m)\u001b[0m\u001b[0;34m\u001b[0m\u001b[0;34m\u001b[0m\u001b[0m\n\u001b[0m",
      "\u001b[0;32m/usr/lib/python3.9/pathlib.py\u001b[0m in \u001b[0;36mmkdir\u001b[0;34m(self, mode, parents, exist_ok)\u001b[0m\n\u001b[1;32m   1321\u001b[0m         \"\"\"\n\u001b[1;32m   1322\u001b[0m         \u001b[0;32mtry\u001b[0m\u001b[0;34m:\u001b[0m\u001b[0;34m\u001b[0m\u001b[0;34m\u001b[0m\u001b[0m\n\u001b[0;32m-> 1323\u001b[0;31m             \u001b[0mself\u001b[0m\u001b[0;34m.\u001b[0m\u001b[0m_accessor\u001b[0m\u001b[0;34m.\u001b[0m\u001b[0mmkdir\u001b[0m\u001b[0;34m(\u001b[0m\u001b[0mself\u001b[0m\u001b[0;34m,\u001b[0m \u001b[0mmode\u001b[0m\u001b[0;34m)\u001b[0m\u001b[0;34m\u001b[0m\u001b[0;34m\u001b[0m\u001b[0m\n\u001b[0m\u001b[1;32m   1324\u001b[0m         \u001b[0;32mexcept\u001b[0m \u001b[0mFileNotFoundError\u001b[0m\u001b[0;34m:\u001b[0m\u001b[0;34m\u001b[0m\u001b[0;34m\u001b[0m\u001b[0m\n\u001b[1;32m   1325\u001b[0m             \u001b[0;32mif\u001b[0m \u001b[0;32mnot\u001b[0m \u001b[0mparents\u001b[0m \u001b[0;32mor\u001b[0m \u001b[0mself\u001b[0m\u001b[0;34m.\u001b[0m\u001b[0mparent\u001b[0m \u001b[0;34m==\u001b[0m \u001b[0mself\u001b[0m\u001b[0;34m:\u001b[0m\u001b[0;34m\u001b[0m\u001b[0;34m\u001b[0m\u001b[0m\n",
      "\u001b[0;31mFileExistsError\u001b[0m: [Errno 17] File exists: '/home/daniel/new dir'"
     ]
    }
   ],
   "source": [
    "(pth.home() / 'new dir').mkdir()"
   ]
  },
  {
   "cell_type": "markdown",
   "id": "83617834",
   "metadata": {},
   "source": [
    "When trying to create an already existing folder, a **FileExistsError** exception is raised  \n",
    "Use the flag `exist_ok = True` to avoid it and don't create the folder"
   ]
  },
  {
   "cell_type": "code",
   "execution_count": 72,
   "id": "336ffc8a",
   "metadata": {},
   "outputs": [],
   "source": [
    "(pth.home() / 'new dir').mkdir(exist_ok = True)"
   ]
  },
  {
   "cell_type": "markdown",
   "id": "a3f36c2c",
   "metadata": {},
   "source": [
    "Sometimes you want to create a whole folder and subfolders structure. Create the new path with all its subfolders. Then use the flag `parents = True` to create the new folder and its *previously unexisting parents*"
   ]
  },
  {
   "cell_type": "code",
   "execution_count": 76,
   "id": "1fa52d29",
   "metadata": {},
   "outputs": [],
   "source": [
    "new_folder = pth.home() / 'folder' / 'subfolder 1' / 'subfolder 2'\n",
    "new_folder.mkdir(parents=True)"
   ]
  },
  {
   "cell_type": "markdown",
   "id": "90e2682d",
   "metadata": {},
   "source": [
    "Now let's iterate recursively the home/folder structure using `.glob('**/*')`"
   ]
  },
  {
   "cell_type": "code",
   "execution_count": 89,
   "id": "38cbe634",
   "metadata": {},
   "outputs": [
    {
     "name": "stdout",
     "output_type": "stream",
     "text": [
      "/home/daniel/folder\n",
      "/home/daniel/folder/subfolder 1\n",
      "/home/daniel/folder/subfolder 1/subfolder 2\n"
     ]
    }
   ],
   "source": [
    "for i in pth.home().glob('**/*'):\n",
    "    if str(i).startswith('/home/daniel/folder'):\n",
    "        print(i)\n",
    "    "
   ]
  },
  {
   "cell_type": "markdown",
   "id": "99761979",
   "metadata": {},
   "source": [
    "Alternative forms to get recursive listing of a folder are:  \n",
    "`.rglob(*)` with \"r\" in \"rglob\" substituting the `**` in `.glob('**/*')`"
   ]
  },
  {
   "cell_type": "markdown",
   "id": "a265b949",
   "metadata": {},
   "source": [
    "## Copying, moving and deleting files"
   ]
  },
  {
   "cell_type": "code",
   "execution_count": 91,
   "id": "22aea01b",
   "metadata": {},
   "outputs": [],
   "source": [
    "import shutil"
   ]
  },
  {
   "cell_type": "code",
   "execution_count": 92,
   "id": "fa0c01dd",
   "metadata": {},
   "outputs": [],
   "source": [
    "os.chdir(pth.home() / 'folder')"
   ]
  },
  {
   "cell_type": "markdown",
   "id": "c3738f41",
   "metadata": {},
   "source": [
    "I create a function to list the content of a folder"
   ]
  },
  {
   "cell_type": "code",
   "execution_count": 147,
   "id": "197ccef4",
   "metadata": {},
   "outputs": [],
   "source": [
    "def dir_folder(dir):\n",
    "    dir_content = dir.rglob('*')\n",
    "    if dir_content:  # folder is not empty\n",
    "           \n",
    "        files = []\n",
    "        subfolders = []\n",
    "        for item in dir_content:\n",
    "            if item.is_file():\n",
    "                files.append(item)\n",
    "            else:\n",
    "                subfolders.append(item)\n",
    "        if files:\n",
    "            print('Files:')\n",
    "            for file in files:\n",
    "                print(file.name)\n",
    "        else:\n",
    "            print('No files in this folder\\n')\n",
    "        if folders:\n",
    "            print('Subfolders:')\n",
    "            for subf in subfolders:\n",
    "                print(subf.name)\n",
    "        else:\n",
    "            print('No subfolders in this folder\\n')\n",
    "    else:\n",
    "        print('Empty folder')"
   ]
  },
  {
   "cell_type": "code",
   "execution_count": 142,
   "id": "b366e94d",
   "metadata": {
    "scrolled": true
   },
   "outputs": [
    {
     "name": "stdout",
     "output_type": "stream",
     "text": [
      "No files in this folder\n",
      "\n",
      "Subfolders:\n",
      "subfolder 2\n"
     ]
    }
   ],
   "source": [
    "dir_folder(pth.home() / 'folder/subfolder 1')"
   ]
  },
  {
   "cell_type": "markdown",
   "id": "bc5cb09f",
   "metadata": {},
   "source": [
    "The subfolder 1 is currently empty."
   ]
  },
  {
   "cell_type": "markdown",
   "id": "6f1b9d6f",
   "metadata": {},
   "source": [
    "### Copy files"
   ]
  },
  {
   "cell_type": "markdown",
   "id": "b21989ff",
   "metadata": {},
   "source": [
    "First, we create some empty files to work with"
   ]
  },
  {
   "cell_type": "code",
   "execution_count": 151,
   "id": "8cd23f6d",
   "metadata": {},
   "outputs": [],
   "source": [
    "for i in range(3):\n",
    "    filename = f'file {i}'\n",
    "    (pth.cwd() / filename).touch()"
   ]
  },
  {
   "cell_type": "markdown",
   "id": "30fa943c",
   "metadata": {},
   "source": [
    "And here we have them!"
   ]
  },
  {
   "cell_type": "code",
   "execution_count": 152,
   "id": "7a378ead",
   "metadata": {},
   "outputs": [
    {
     "name": "stdout",
     "output_type": "stream",
     "text": [
      "Files:\n",
      "file 0\n",
      "file 1\n",
      "file 2\n",
      "Subfolders:\n",
      "subfolder 1\n",
      "subfolder 2\n"
     ]
    }
   ],
   "source": [
    "dir = pth.home() / 'folder'\n",
    "dir_folder(dir)"
   ]
  },
  {
   "cell_type": "markdown",
   "id": "c95872e8",
   "metadata": {},
   "source": [
    "Now let's copy some files into `subfolder 1` using the `shutil.copy()` method. This method has a `(source, destination)` argument structure"
   ]
  },
  {
   "cell_type": "code",
   "execution_count": 153,
   "id": "214f52e8",
   "metadata": {},
   "outputs": [
    {
     "data": {
      "text/plain": [
       "[PosixPath('/home/daniel/folder/file 0'),\n",
       " PosixPath('/home/daniel/folder/file 1'),\n",
       " PosixPath('/home/daniel/folder/file 2')]"
      ]
     },
     "execution_count": 153,
     "metadata": {},
     "output_type": "execute_result"
    }
   ],
   "source": [
    "folder = pth.home() / 'folder'\n",
    "files_to_copy = []\n",
    "for i in folder.glob('*'):\n",
    "    if i.is_file():\n",
    "        files_to_copy.append(i)\n",
    "files_to_copy"
   ]
  },
  {
   "cell_type": "code",
   "execution_count": 156,
   "id": "b4fe5e3d",
   "metadata": {},
   "outputs": [],
   "source": [
    "for file in files_to_copy:\n",
    "    destination = pth.cwd() / 'subfolder 1' / f'{file.name} - copy'\n",
    "    shutil.copy(file, destination)"
   ]
  },
  {
   "cell_type": "code",
   "execution_count": 158,
   "id": "c46d9338",
   "metadata": {},
   "outputs": [
    {
     "name": "stdout",
     "output_type": "stream",
     "text": [
      "Files:\n",
      "file 1 - copy\n",
      "file 0 - copy\n",
      "file 2 - copy\n",
      "Subfolders:\n",
      "subfolder 2\n"
     ]
    }
   ],
   "source": [
    "dir = pth.home() / 'folder/subfolder 1'\n",
    "dir_folder(dir)"
   ]
  },
  {
   "cell_type": "markdown",
   "id": "ec9da9b1",
   "metadata": {},
   "source": [
    "### Move files"
   ]
  },
  {
   "cell_type": "markdown",
   "id": "f6596905",
   "metadata": {},
   "source": [
    "Let's move `file 0` to `folder/subfolder 1/subfolder 2`"
   ]
  },
  {
   "cell_type": "code",
   "execution_count": 159,
   "id": "d25f0858",
   "metadata": {},
   "outputs": [
    {
     "data": {
      "text/plain": [
       "PosixPath('/home/daniel/folder')"
      ]
     },
     "execution_count": 159,
     "metadata": {},
     "output_type": "execute_result"
    }
   ],
   "source": [
    "pth.cwd()"
   ]
  },
  {
   "cell_type": "code",
   "execution_count": 163,
   "id": "25fc158e",
   "metadata": {},
   "outputs": [
    {
     "data": {
      "text/plain": [
       "PosixPath('/home/daniel/folder/subfolder 1/subfolder 2/file 0 - moved')"
      ]
     },
     "execution_count": 163,
     "metadata": {},
     "output_type": "execute_result"
    }
   ],
   "source": [
    "source = pth.cwd() / 'file 0'\n",
    "destination = pth.cwd() / 'subfolder 1/subfolder 2/file 0 - moved'\n",
    "shutil.move(source, destination)"
   ]
  },
  {
   "cell_type": "code",
   "execution_count": 164,
   "id": "743b76db",
   "metadata": {},
   "outputs": [
    {
     "name": "stdout",
     "output_type": "stream",
     "text": [
      "Files:\n",
      "file 0 - moved\n",
      "Subfolders:\n"
     ]
    }
   ],
   "source": [
    "dir_folder( pth.home() / 'folder/subfolder 1/subfolder 2')"
   ]
  },
  {
   "cell_type": "markdown",
   "id": "9ad30c96",
   "metadata": {},
   "source": [
    "## Delete files"
   ]
  },
  {
   "cell_type": "code",
   "execution_count": null,
   "id": "fd9e7f6b",
   "metadata": {},
   "outputs": [],
   "source": []
  }
 ],
 "metadata": {
  "kernelspec": {
   "display_name": "Python 3.9.7 64-bit",
   "language": "python",
   "name": "python397jvsc74a57bd0e7370f93d1d0cde622a1f8e1c04877d8463912d04d973331ad4851f04de6915a"
  },
  "language_info": {
   "codemirror_mode": {
    "name": "ipython",
    "version": 3
   },
   "file_extension": ".py",
   "mimetype": "text/x-python",
   "name": "python",
   "nbconvert_exporter": "python",
   "pygments_lexer": "ipython3",
   "version": "3.9.7"
  }
 },
 "nbformat": 4,
 "nbformat_minor": 5
}
